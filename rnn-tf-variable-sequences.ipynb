{
 "cells": [
  {
   "cell_type": "code",
   "execution_count": 1,
   "metadata": {
    "_cell_guid": "b1076dfc-b9ad-4769-8c92-a6c4dae69d19",
    "_uuid": "8f2839f25d086af736a60e9eeb907d3b93b6e0e5"
   },
   "outputs": [
    {
     "name": "stdout",
     "output_type": "stream",
     "text": [
      "[]\n"
     ]
    }
   ],
   "source": [
    "# This Python 3 environment comes with many helpful analytics libraries installed\n",
    "# It is defined by the kaggle/python docker image: https://github.com/kaggle/docker-python\n",
    "# For example, here's several helpful packages to load in \n",
    "\n",
    "import numpy as np # linear algebra\n",
    "import pandas as pd # data processing, CSV file I/O (e.g. pd.read_csv)\n",
    "import tensorflow as tf\n",
    "# Input data files are available in the \"../input/\" directory.\n",
    "# For example, running this (by clicking run or pressing Shift+Enter) will list the files in the input directory\n",
    "\n",
    "import os\n",
    "print(os.listdir(\"../input\"))\n",
    "\n",
    "# Any results you write to the current directory are saved as output."
   ]
  },
  {
   "cell_type": "code",
   "execution_count": 2,
   "metadata": {
    "_cell_guid": "79c7e3d0-c299-4dcb-8224-4455121ee9b0",
    "_uuid": "d629ff2d2480ee46fbb7e2d37f6b5fab8052498a"
   },
   "outputs": [],
   "source": [
    "seq_length=tf.placeholder(tf.int32,[None])\n",
    "X_batch = np.array([\n",
    "# step 0 step 1\n",
    "[[0, 1, 2], [9, 8, 7]], # instance 0\n",
    "[[3, 4, 5], [0, 0, 0]], # instance 1 (padded with a zero vector)\n",
    "[[6, 7, 8], [6, 5, 4]], # instance 2\n",
    "[[9, 0, 1], [3, 2, 1]], # instance 3\n",
    "])\n",
    "seq_length_batch = np.array([2, 1, 2, 2])"
   ]
  },
  {
   "cell_type": "code",
   "execution_count": 3,
   "metadata": {
    "_uuid": "015432e6ba3a27942728a37259655323fbf041f4"
   },
   "outputs": [],
   "source": [
    "X=tf.placeholder(tf.float32,[None,2,3])"
   ]
  },
  {
   "cell_type": "code",
   "execution_count": 4,
   "metadata": {
    "_uuid": "face0dad672ee3c19328d9b8b6edb145a30f9264"
   },
   "outputs": [
    {
     "name": "stdout",
     "output_type": "stream",
     "text": [
      "WARNING:tensorflow:From <ipython-input-4-5a60f968fd72>:2: BasicRNNCell.__init__ (from tensorflow.python.ops.rnn_cell_impl) is deprecated and will be removed in a future version.\n",
      "Instructions for updating:\n",
      "This class is equivalent as tf.keras.layers.SimpleRNNCell, and will be replaced by that in Tensorflow 2.0.\n"
     ]
    }
   ],
   "source": [
    "X_batch.shape\n",
    "outputs,state=tf.nn.dynamic_rnn(tf.nn.rnn_cell.BasicRNNCell(8),X,dtype=tf.float32,sequence_length=seq_length)"
   ]
  },
  {
   "cell_type": "code",
   "execution_count": 5,
   "metadata": {
    "_uuid": "f6cea5c12b40ef17f8e326d64c2364b1a8986ea8"
   },
   "outputs": [],
   "source": [
    "#batch size =4\n",
    "# no of timestamps 2\n",
    "# n inputs=3\n",
    "init=tf.global_variables_initializer()"
   ]
  },
  {
   "cell_type": "code",
   "execution_count": 6,
   "metadata": {
    "_uuid": "4a1268c7ecf33d3bec531d24f5b4708ec98f371d"
   },
   "outputs": [],
   "source": [
    "with tf.Session() as s:\n",
    "    s.run(init)\n",
    "    output1,state1=s.run([outputs,state],feed_dict={X:X_batch,seq_length:seq_length_batch})\n",
    "    "
   ]
  },
  {
   "cell_type": "code",
   "execution_count": 7,
   "metadata": {
    "_uuid": "a2506c867772d2e0449b43ee6d6195808f9f4202"
   },
   "outputs": [
    {
     "data": {
      "text/plain": [
       "(4, 2, 8)"
      ]
     },
     "execution_count": 7,
     "metadata": {},
     "output_type": "execute_result"
    }
   ],
   "source": [
    "output1.shape  #so dynamic rnn pad other sequences length with zeros\n"
   ]
  },
  {
   "cell_type": "code",
   "execution_count": 8,
   "metadata": {
    "_uuid": "b828c3e49d26ab05a29efe9a03e86c63178165bd"
   },
   "outputs": [
    {
     "data": {
      "text/plain": [
       "array([[ 1.        ,  0.9825132 , -0.95549846, -0.46331474,  0.97516966,\n",
       "        -0.9999999 ,  0.9967437 , -0.8689447 ],\n",
       "       [ 0.        ,  0.        ,  0.        ,  0.        ,  0.        ,\n",
       "         0.        ,  0.        ,  0.        ],\n",
       "       [ 0.99998814,  0.5695395 , -0.9005881 , -0.23025082,  0.72811466,\n",
       "        -0.9999641 ,  0.9872708 ,  0.52159077],\n",
       "       [ 0.98783207,  0.9399032 , -0.977491  , -0.1371896 , -0.53114766,\n",
       "        -0.9954591 ,  0.8742806 , -0.4050319 ]], dtype=float32)"
      ]
     },
     "execution_count": 8,
     "metadata": {},
     "output_type": "execute_result"
    }
   ],
   "source": [
    "output1[:,1,:]"
   ]
  },
  {
   "cell_type": "code",
   "execution_count": 9,
   "metadata": {
    "_uuid": "75c2c92730e17f6f5a67554a242624b3c87285fd"
   },
   "outputs": [
    {
     "data": {
      "text/plain": [
       "array([[ 1.        ,  0.9825132 , -0.95549846, -0.46331474,  0.97516966,\n",
       "        -0.9999999 ,  0.9967437 , -0.8689447 ],\n",
       "       [ 0.9997875 ,  0.8495464 , -0.6837264 ,  0.544235  ,  0.9597583 ,\n",
       "        -0.9999158 ,  0.39711648, -0.899459  ],\n",
       "       [ 0.99998814,  0.5695395 , -0.9005881 , -0.23025082,  0.72811466,\n",
       "        -0.9999641 ,  0.9872708 ,  0.52159077],\n",
       "       [ 0.98783207,  0.9399032 , -0.977491  , -0.1371896 , -0.53114766,\n",
       "        -0.9954591 ,  0.8742806 , -0.4050319 ]], dtype=float32)"
      ]
     },
     "execution_count": 9,
     "metadata": {},
     "output_type": "execute_result"
    }
   ],
   "source": [
    "state1"
   ]
  },
  {
   "cell_type": "code",
   "execution_count": 10,
   "metadata": {
    "_uuid": "5f9e3392457a1ff565dc6f0518c1fe62efd7aa44"
   },
   "outputs": [
    {
     "data": {
      "text/plain": [
       "array([ 0.9997875 ,  0.8495464 , -0.6837264 ,  0.544235  ,  0.9597583 ,\n",
       "       -0.9999158 ,  0.39711648, -0.899459  ], dtype=float32)"
      ]
     },
     "execution_count": 10,
     "metadata": {},
     "output_type": "execute_result"
    }
   ],
   "source": [
    "output1[1,0,:]  #state is going to give last non zero hidden state of dynamic rnn"
   ]
  },
  {
   "cell_type": "code",
   "execution_count": 11,
   "metadata": {
    "_uuid": "5a421d95083efe647247acf708c16d25d07a4a31"
   },
   "outputs": [],
   "source": []
  }
 ],
 "metadata": {
  "kernelspec": {
   "display_name": "Python 3",
   "language": "python",
   "name": "python3"
  },
  "language_info": {
   "codemirror_mode": {
    "name": "ipython",
    "version": 3
   },
   "file_extension": ".py",
   "mimetype": "text/x-python",
   "name": "python",
   "nbconvert_exporter": "python",
   "pygments_lexer": "ipython3",
   "version": "3.6.6"
  }
 },
 "nbformat": 4,
 "nbformat_minor": 1
}
