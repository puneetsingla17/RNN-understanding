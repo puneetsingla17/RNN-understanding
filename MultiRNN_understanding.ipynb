{
  "cells": [
    {
      "metadata": {
        "_uuid": "8f2839f25d086af736a60e9eeb907d3b93b6e0e5",
        "_cell_guid": "b1076dfc-b9ad-4769-8c92-a6c4dae69d19",
        "trusted": true
      },
      "cell_type": "code",
      "source": "# This Python 3 environment comes with many helpful analytics libraries installed\n# It is defined by the kaggle/python docker image: https://github.com/kaggle/docker-python\n# For example, here's several helpful packages to load in \n\nimport numpy as np # linear algebra\nimport pandas as pd # data processing, CSV file I/O (e.g. pd.read_csv)\nimport tensorflow as tf\n# Input data files are available in the \"../input/\" directory.\n# For example, running this (by clicking run or pressing Shift+Enter) will list the files in the input directory\nimport matplotlib.pyplot as plt\nimport os\nprint(os.listdir(\"../input\"))\n\n# Any results you write to the current directory are saved as output.",
      "execution_count": 1,
      "outputs": [
        {
          "output_type": "stream",
          "text": "[]\n",
          "name": "stdout"
        }
      ]
    },
    {
      "metadata": {
        "_cell_guid": "79c7e3d0-c299-4dcb-8224-4455121ee9b0",
        "collapsed": true,
        "_uuid": "d629ff2d2480ee46fbb7e2d37f6b5fab8052498a",
        "trusted": false
      },
      "cell_type": "markdown",
      "source": "![](http://r2rt.com/static/images/RNN_MultiRNNCellUngrouped.png)"
    },
    {
      "metadata": {
        "trusted": true,
        "_uuid": "e20b5a4fe4cb53adaf4d0d6182c1dcf7a34313c4"
      },
      "cell_type": "code",
      "source": "#In MultiRNN cell : hidden layer of bottom RNN is fed to RNN cell above it and so on\n#Depending upon number of cells provided as a list in MultiRNN cell\n#MultiRNN cell Wraps whole list of BasicRNN cells .sort of like box \n",
      "execution_count": 2,
      "outputs": []
    },
    {
      "metadata": {
        "_uuid": "7cfdb547a433ce99b5034534ef49523aa04bc2cd"
      },
      "cell_type": "markdown",
      "source": "![](https://r2rt.com/static/images/RNN_MultiRNNCellGrouped.png)"
    },
    {
      "metadata": {
        "trusted": true,
        "_uuid": "b0ea738d8517ce11aaac3d1e4ac30cd7cfe11eb7"
      },
      "cell_type": "code",
      "source": " # Image taken from  https://r2rt.com/",
      "execution_count": 3,
      "outputs": []
    },
    {
      "metadata": {
        "trusted": true,
        "_uuid": "2dd29c767a85d1aeae82280ab045b49bcec0e1c8"
      },
      "cell_type": "code",
      "source": "X_data = np.array([\n\n        [[1, 2], [7, 8], [13, 14]],  \n        [[3, 4], [9, 10], [15, 16]],\n        [[5, 6], [11, 12], [17, 18]]])",
      "execution_count": 5,
      "outputs": []
    },
    {
      "metadata": {
        "trusted": true,
        "_uuid": "9f9c3dd7df0ae6fb121743b6ec5cc6274b0ba740"
      },
      "cell_type": "code",
      "source": "n_neurons=8\nn_steps=X_data.shape[1]\nn_inputs=X_data.shape[2]\nn_layers=5\n\nX=tf.placeholder(tf.float32,[None,n_steps,n_inputs])\nlayers=[tf.nn.rnn_cell.BasicRNNCell(num_units=n_neurons) for i in range(n_layers)]\nmulti_cell=tf.nn.rnn_cell.MultiRNNCell(layers)\noutput,state=tf.nn.dynamic_rnn(multi_cell,X,dtype=tf.float32)",
      "execution_count": 6,
      "outputs": [
        {
          "output_type": "stream",
          "text": "WARNING:tensorflow:From <ipython-input-6-c41735aa505e>:7: BasicRNNCell.__init__ (from tensorflow.python.ops.rnn_cell_impl) is deprecated and will be removed in a future version.\nInstructions for updating:\nThis class is equivalent as tf.keras.layers.SimpleRNNCell, and will be replaced by that in Tensorflow 2.0.\n",
          "name": "stdout"
        }
      ]
    },
    {
      "metadata": {
        "trusted": true,
        "_uuid": "b4e36e89bb10b6ccfff2f59c841a0c09e5344f65"
      },
      "cell_type": "code",
      "source": "init=tf.global_variables_initializer()\nwith tf.Session() as s:\n    s.run(init)\n    feed_dict={X:X_data}\n    output1,state1=s.run([output,state],feed_dict=feed_dict)",
      "execution_count": 8,
      "outputs": []
    },
    {
      "metadata": {
        "trusted": true,
        "_uuid": "4168d6323589fdddf8e41fae6027a8650c1f6f87"
      },
      "cell_type": "code",
      "source": "output1.shape",
      "execution_count": 9,
      "outputs": [
        {
          "output_type": "execute_result",
          "execution_count": 9,
          "data": {
            "text/plain": "(3, 3, 8)"
          },
          "metadata": {}
        }
      ]
    },
    {
      "metadata": {
        "trusted": true,
        "_uuid": "5428c8ad598c5302aca63b263e3d462e0e8909d3"
      },
      "cell_type": "code",
      "source": "print(len(state1))\n",
      "execution_count": 15,
      "outputs": [
        {
          "output_type": "stream",
          "text": "5\n",
          "name": "stdout"
        }
      ]
    },
    {
      "metadata": {
        "trusted": true,
        "_uuid": "fd2d86b9dd3e35f22b779ecd11740ee1c5bb3755"
      },
      "cell_type": "code",
      "source": "output1[:,2,:]",
      "execution_count": 18,
      "outputs": [
        {
          "output_type": "execute_result",
          "execution_count": 18,
          "data": {
            "text/plain": "array([[-0.10288267, -0.38434651,  0.16299744,  0.09441876,  0.0266283 ,\n         0.34535977, -0.38796043, -0.1862032 ],\n       [-0.13499536, -0.27170727,  0.24019115,  0.01952399, -0.03292025,\n         0.26523814, -0.3804391 , -0.12422167],\n       [-0.1288587 , -0.2675806 ,  0.24263893,  0.00318548, -0.0178283 ,\n         0.27111962, -0.39168665, -0.12813908]], dtype=float32)"
          },
          "metadata": {}
        }
      ]
    },
    {
      "metadata": {
        "trusted": true,
        "_uuid": "83267a53da5f66cac6c8393b1bdf9da44edf6174"
      },
      "cell_type": "code",
      "source": "state1 ",
      "execution_count": 19,
      "outputs": [
        {
          "output_type": "execute_result",
          "execution_count": 19,
          "data": {
            "text/plain": "(array([[-0.81237864, -0.98997456,  0.9998835 , -0.96649325,  0.99991834,\n         -0.5070641 ,  0.980906  , -0.9998321 ],\n        [-0.8732774 , -0.9949179 ,  0.9999638 , -0.97367555,  0.9999816 ,\n         -0.5867789 ,  0.9888569 , -0.99995863],\n        [-0.91395676, -0.99791306,  0.9999869 , -0.9795536 ,  0.99999607,\n         -0.5836412 ,  0.993817  , -0.99998933]], dtype=float32),\n array([[ 0.05820724,  0.13304314,  0.54604685, -0.3548285 ,  0.07028165,\n         -0.496838  , -0.51755786,  0.07451226],\n        [ 0.16994385,  0.20003669,  0.61265224, -0.41911528,  0.26181167,\n         -0.4765458 , -0.5108947 , -0.09600033],\n        [ 0.18784487,  0.2023045 ,  0.63330394, -0.45297325,  0.2697069 ,\n         -0.45146546, -0.50672585, -0.11064941]], dtype=float32),\n array([[-0.05463859,  0.01332746, -0.6525228 ,  0.19745716,  0.5737965 ,\n          0.8435214 , -0.12628067,  0.35465512],\n        [ 0.02320506, -0.01218486, -0.6579571 , -0.04774509,  0.67092454,\n          0.8661538 , -0.00325153,  0.15021673],\n        [ 0.02761015,  0.00474198, -0.6555617 , -0.05372356,  0.6928644 ,\n          0.8725225 ,  0.0252642 ,  0.16434275]], dtype=float32),\n array([[ 0.05932334,  0.34433576, -0.41815445,  0.534387  , -0.15635855,\n         -0.15725392, -0.39005867,  0.13813674],\n        [ 0.12663862,  0.23584385, -0.52135825,  0.52109265, -0.28254178,\n         -0.285628  , -0.348574  ,  0.04482063],\n        [ 0.14527449,  0.2152227 , -0.52389306,  0.5246131 , -0.29979625,\n         -0.25335667, -0.3367504 ,  0.03712915]], dtype=float32),\n array([[-0.10288267, -0.38434651,  0.16299744,  0.09441876,  0.0266283 ,\n          0.34535977, -0.38796043, -0.1862032 ],\n        [-0.13499536, -0.27170727,  0.24019115,  0.01952399, -0.03292025,\n          0.26523814, -0.3804391 , -0.12422167],\n        [-0.1288587 , -0.2675806 ,  0.24263893,  0.00318548, -0.0178283 ,\n          0.27111962, -0.39168665, -0.12813908]], dtype=float32))"
          },
          "metadata": {}
        }
      ]
    },
    {
      "metadata": {
        "trusted": true,
        "_uuid": "c3173ccdbe626fea8b687c1f464fe012e844d0ab"
      },
      "cell_type": "code",
      "source": "#output1 is giving hidden state of only top RNN cells at different timestamps\n# state1 is giving hidden state of all RNN cells in MultiRNN across all batches but in last time stamp\n#starting from bottom RNN cell state as first element and top RNN cell state as the last element\n# so last timestamp state of output1 is same as last element of state1",
      "execution_count": 20,
      "outputs": []
    },
    {
      "metadata": {
        "trusted": true,
        "_uuid": "1f41386ead187b27bb401ec80e32eb6cc5123ccd"
      },
      "cell_type": "code",
      "source": "output1[:,2,:]",
      "execution_count": 23,
      "outputs": [
        {
          "output_type": "execute_result",
          "execution_count": 23,
          "data": {
            "text/plain": "array([[-0.10288267, -0.38434651,  0.16299744,  0.09441876,  0.0266283 ,\n         0.34535977, -0.38796043, -0.1862032 ],\n       [-0.13499536, -0.27170727,  0.24019115,  0.01952399, -0.03292025,\n         0.26523814, -0.3804391 , -0.12422167],\n       [-0.1288587 , -0.2675806 ,  0.24263893,  0.00318548, -0.0178283 ,\n         0.27111962, -0.39168665, -0.12813908]], dtype=float32)"
          },
          "metadata": {}
        }
      ]
    },
    {
      "metadata": {
        "trusted": true,
        "_uuid": "d8f7623844cf1c19f5e164c6f7cd225f86563c6f"
      },
      "cell_type": "code",
      "source": "state1[-1]",
      "execution_count": 24,
      "outputs": [
        {
          "output_type": "execute_result",
          "execution_count": 24,
          "data": {
            "text/plain": "array([[-0.10288267, -0.38434651,  0.16299744,  0.09441876,  0.0266283 ,\n         0.34535977, -0.38796043, -0.1862032 ],\n       [-0.13499536, -0.27170727,  0.24019115,  0.01952399, -0.03292025,\n         0.26523814, -0.3804391 , -0.12422167],\n       [-0.1288587 , -0.2675806 ,  0.24263893,  0.00318548, -0.0178283 ,\n         0.27111962, -0.39168665, -0.12813908]], dtype=float32)"
          },
          "metadata": {}
        }
      ]
    },
    {
      "metadata": {
        "trusted": true,
        "_uuid": "0a4770793c5639d171c6b3af591ca105663365f6"
      },
      "cell_type": "code",
      "source": "#Both are same",
      "execution_count": 25,
      "outputs": []
    },
    {
      "metadata": {
        "trusted": true,
        "_uuid": "3440cc5c51334b1fa2cd7a8314445f7142548108"
      },
      "cell_type": "code",
      "source": "",
      "execution_count": null,
      "outputs": []
    }
  ],
  "metadata": {
    "kernelspec": {
      "display_name": "Python 3",
      "language": "python",
      "name": "python3"
    },
    "language_info": {
      "name": "python",
      "version": "3.6.6",
      "mimetype": "text/x-python",
      "codemirror_mode": {
        "name": "ipython",
        "version": 3
      },
      "pygments_lexer": "ipython3",
      "nbconvert_exporter": "python",
      "file_extension": ".py"
    }
  },
  "nbformat": 4,
  "nbformat_minor": 1
}