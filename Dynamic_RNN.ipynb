{
  "cells": [
    {
      "metadata": {
        "_uuid": "8f2839f25d086af736a60e9eeb907d3b93b6e0e5",
        "_cell_guid": "b1076dfc-b9ad-4769-8c92-a6c4dae69d19",
        "trusted": true
      },
      "cell_type": "code",
      "source": "# This Python 3 environment comes with many helpful analytics libraries installed\n# It is defined by the kaggle/python docker image: https://github.com/kaggle/docker-python\n# For example, here's several helpful packages to load in \n\nimport numpy as np # linear algebra\nimport pandas as pd # data processing, CSV file I/O (e.g. pd.read_csv)\nimport tensorflow as tf\nimport matplotlib.pyplot as plt\n# Input data files are available in the \"../input/\" directory.\n# For example, running this (by clicking run or pressing Shift+Enter) will list the files in the input directory\n\nimport os\nprint(os.listdir(\"../input\"))\n\n# Any results you write to the current directory are saved as output.",
      "execution_count": null,
      "outputs": []
    },
    {
      "metadata": {
        "_cell_guid": "79c7e3d0-c299-4dcb-8224-4455121ee9b0",
        "_uuid": "d629ff2d2480ee46fbb7e2d37f6b5fab8052498a",
        "trusted": true
      },
      "cell_type": "code",
      "source": "X_data = np.array([\n\n        [[1, 2], [7, 8], [13, 14]],  # first batch\n        [[3, 4], [9, 10], [15, 16]], # second batch\n        [[5, 6], [11, 12], [17, 18]] # third batch\n])",
      "execution_count": 2,
      "outputs": []
    },
    {
      "metadata": {
        "trusted": true,
        "_uuid": "fff5221b6f38c7fdb2f66ad59dcf8b0ab6e4ce7e"
      },
      "cell_type": "code",
      "source": "X_data.shape",
      "execution_count": 3,
      "outputs": [
        {
          "output_type": "execute_result",
          "execution_count": 3,
          "data": {
            "text/plain": "(3, 3, 2)"
          },
          "metadata": {}
        }
      ]
    },
    {
      "metadata": {
        "trusted": true,
        "_uuid": "daca13ea6e47fbd73306a97dcd0d1d14bae36531"
      },
      "cell_type": "code",
      "source": "n_neurons=8\nn_inputs=X_data.shape[2]\nn_steps=X_data.shape[1]\nX=tf.placeholder(tf.float32,[None,n_steps,n_inputs])\nprint(n_steps)\nprint(n_inputs)",
      "execution_count": 4,
      "outputs": [
        {
          "output_type": "stream",
          "text": "3\n2\n",
          "name": "stdout"
        }
      ]
    },
    {
      "metadata": {
        "trusted": true,
        "_uuid": "e59e180d00db4e23864158d7dad6af802aa04c47"
      },
      "cell_type": "code",
      "source": "cell=tf.nn.rnn_cell.BasicRNNCell(num_units=n_neurons)  # by default activation is tanh\noutput,state=tf.nn.dynamic_rnn(cell,X,dtype=tf.float32)",
      "execution_count": 5,
      "outputs": [
        {
          "output_type": "stream",
          "text": "WARNING:tensorflow:From <ipython-input-5-4716f707a300>:1: BasicRNNCell.__init__ (from tensorflow.python.ops.rnn_cell_impl) is deprecated and will be removed in a future version.\nInstructions for updating:\nThis class is equivalent as tf.keras.layers.SimpleRNNCell, and will be replaced by that in Tensorflow 2.0.\n",
          "name": "stdout"
        }
      ]
    },
    {
      "metadata": {
        "trusted": true,
        "_uuid": "75c52a8565e1532a4ba5566f83ced64b4242550f"
      },
      "cell_type": "code",
      "source": "# We didnt fed X_seq like last time\n# We didnt have to unstack or break batch into timestamps\n# We didnt have to stack hidden states \n# like we did in static RNN. we can feed batch  shape (batchsize X n_time_stamps X n_inputs)\n #it is important to know RNN once specified will take shape accordingly .\n#so if i change shape of X  then for that change to reflect in dynamicRNN i need to restart the whole kernel\n# restart the whole code again\n",
      "execution_count": null,
      "outputs": []
    },
    {
      "metadata": {
        "trusted": true,
        "_uuid": "063d608f9e4d2ca30c74982da71d0308133071be"
      },
      "cell_type": "code",
      "source": "",
      "execution_count": null,
      "outputs": []
    },
    {
      "metadata": {
        "trusted": true,
        "_uuid": "304b41eaab33ecc68f11ff2f902cb0e441d12d48"
      },
      "cell_type": "code",
      "source": "init = tf.global_variables_initializer()\n\n# train\nwith tf.Session() as sess:\n    sess.run(init)\n    feed_dict = {X: X_data}\n    output_shape = sess.run(tf.shape(output), feed_dict=feed_dict)\n    state_shape = sess.run(tf.shape(state), feed_dict=feed_dict)\n    print('output shape [batch_size, n_steps, n_neurons]: ', output_shape)\n    print('state shape [batch_size, n_neurons]: ', state_shape)\n    output1,state1=sess.run([output,state],feed_dict=feed_dict)\n    print(output1[:,2,:])\n    print(state1)\n    \n    print(output1[:,2,:]==state1)\n    \n    #Very very important\n    #output1[:,i,:]  gives hidden state along ith time step\n    ",
      "execution_count": 13,
      "outputs": [
        {
          "output_type": "stream",
          "text": "output shape [batch_size, n_steps, n_neurons]:  [3 3 8]\nstate shape [batch_size, n_neurons]:  [3 8]\n[[-0.9999958   0.69408     0.98661506  0.9880264   0.975677    1.\n   1.         -1.        ]\n [-0.9999997   0.7837809   0.99290466  0.9951067   0.985323    1.\n   1.         -1.        ]\n [-0.99999994  0.8472706   0.99610525  0.9979527   0.9912093   1.\n   1.         -1.        ]]\n[[-0.9999958   0.69408     0.98661506  0.9880264   0.975677    1.\n   1.         -1.        ]\n [-0.9999997   0.7837809   0.99290466  0.9951067   0.985323    1.\n   1.         -1.        ]\n [-0.99999994  0.8472706   0.99610525  0.9979527   0.9912093   1.\n   1.         -1.        ]]\n[[ True  True  True  True  True  True  True  True]\n [ True  True  True  True  True  True  True  True]\n [ True  True  True  True  True  True  True  True]]\n",
          "name": "stdout"
        }
      ]
    },
    {
      "metadata": {
        "trusted": true,
        "_uuid": "b5da0ede4d5f6be64a237eac6bc49285851bd8c1"
      },
      "cell_type": "code",
      "source": "",
      "execution_count": null,
      "outputs": []
    }
  ],
  "metadata": {
    "kernelspec": {
      "display_name": "Python 3",
      "language": "python",
      "name": "python3"
    },
    "language_info": {
      "name": "python",
      "version": "3.6.6",
      "mimetype": "text/x-python",
      "codemirror_mode": {
        "name": "ipython",
        "version": 3
      },
      "pygments_lexer": "ipython3",
      "nbconvert_exporter": "python",
      "file_extension": ".py"
    }
  },
  "nbformat": 4,
  "nbformat_minor": 1
}