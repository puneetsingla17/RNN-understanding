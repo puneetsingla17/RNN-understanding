{
  "cells": [
    {
      "metadata": {
        "_uuid": "8f2839f25d086af736a60e9eeb907d3b93b6e0e5",
        "_cell_guid": "b1076dfc-b9ad-4769-8c92-a6c4dae69d19",
        "trusted": true
      },
      "cell_type": "code",
      "source": "# This Python 3 environment comes with many helpful analytics libraries installed\n# It is defined by the kaggle/python docker image: https://github.com/kaggle/docker-python\n# For example, here's several helpful packages to load in \n\nimport numpy as np # linear algebra\nimport pandas as pd # data processing, CSV file I/O (e.g. pd.read_csv)\nimport tensorflow as tf\nimport matplotlib.pyplot as plt\n# Input data files are available in the \"../input/\" directory.\n# For example, running this (by clicking run or pressing Shift+Enter) will list the files in the input directory\n\nimport os\nprint(os.listdir(\"../input\"))\n\n# Any results you write to the current directory are saved as output.",
      "execution_count": 1,
      "outputs": [
        {
          "output_type": "stream",
          "text": "[]\n",
          "name": "stdout"
        }
      ]
    },
    {
      "metadata": {
        "_cell_guid": "79c7e3d0-c299-4dcb-8224-4455121ee9b0",
        "_uuid": "d629ff2d2480ee46fbb7e2d37f6b5fab8052498a",
        "trusted": true
      },
      "cell_type": "code",
      "source": "# https://r2rt.com/recurrent-neural-networks-in-tensorflow-i.html\n# https://r2rt.com/styles-of-truncated-backpropagation.html\n# https://r2rt.com/recurrent-neural-networks-in-tensorflow-ii.html\n",
      "execution_count": null,
      "outputs": []
    },
    {
      "metadata": {
        "trusted": true,
        "_uuid": "b96dc07009ad9188393b12200216a00ed4d30720"
      },
      "cell_type": "code",
      "source": "",
      "execution_count": null,
      "outputs": []
    },
    {
      "metadata": {
        "trusted": true,
        "_uuid": "4af8e46f8dd333ccdc186ab2ffbca24a69a0b18f"
      },
      "cell_type": "code",
      "source": "# https://medium.com/machine-learning-algorithms/build-basic-rnn-cell-with-static-rnn-707f41d31ee1\n    ",
      "execution_count": null,
      "outputs": []
    },
    {
      "metadata": {
        "trusted": true,
        "_uuid": "a9d11203b47a3886dedb231a8f36f61439615046"
      },
      "cell_type": "code",
      "source": "np.random.choice(4,size=[10,])   # very useful function\n# for random choice of integers",
      "execution_count": null,
      "outputs": []
    },
    {
      "metadata": {
        "trusted": true,
        "_uuid": "2f83f6fcd837aa9e93714f5d01223a46b6836fab"
      },
      "cell_type": "code",
      "source": "",
      "execution_count": null,
      "outputs": []
    },
    {
      "metadata": {
        "trusted": true,
        "_uuid": "94dd9a4b7030341a0815d97e0773e0804cf66063"
      },
      "cell_type": "code",
      "source": "#statesize is for hidden state across all samples in a batch \n# at single timestamp",
      "execution_count": null,
      "outputs": []
    },
    {
      "metadata": {
        "trusted": true,
        "_uuid": "d4aa125c5797b2236bd384383618610e01f87836"
      },
      "cell_type": "code",
      "source": "x_one_hot=tf.one_hot(X,num_classes)\nrnn_inputs=tf.unstack(x_one_hot,axis=1)\n# we are breaking array in list of array at different timestamps",
      "execution_count": null,
      "outputs": []
    },
    {
      "metadata": {
        "trusted": true,
        "_uuid": "f6b426c517a6bc1c64e34de31bb2488a121e9744"
      },
      "cell_type": "code",
      "source": "x=np.random.randint(0,10,size=[20])\na=tf.one_hot(x,10)",
      "execution_count": null,
      "outputs": []
    },
    {
      "metadata": {
        "trusted": true,
        "_uuid": "7506d73949f681b70cfa964a81a249a069682250"
      },
      "cell_type": "code",
      "source": "",
      "execution_count": null,
      "outputs": []
    },
    {
      "metadata": {
        "trusted": true,
        "_uuid": "4cf7f820974e124e7279948add786e30f4fe1095"
      },
      "cell_type": "code",
      "source": "with tf.Session() as s:\n    print(a.eval())\n    print(a.eval().shape)\n    print(type(a.eval()))\n    ",
      "execution_count": null,
      "outputs": []
    },
    {
      "metadata": {
        "_uuid": "42f0bc900e54355214fc98cec3ad05a31fa43f08"
      },
      "cell_type": "markdown",
      "source": ""
    },
    {
      "metadata": {
        "trusted": true,
        "_uuid": "34d7bbb72b1485782196608d48051d8e6ef38274"
      },
      "cell_type": "code",
      "source": "#Learning tf.unstack\na=np.arange(0,30)\na=tf.constant(a)\nb=tf.reshape(a,shape=[2,3,5])\nc=tf.unstack(b,axis=1)",
      "execution_count": null,
      "outputs": []
    },
    {
      "metadata": {
        "trusted": true,
        "_uuid": "deb25f4225da73e0926fffbe5ee2813eaef6e150"
      },
      "cell_type": "code",
      "source": "with tf.Session() as s:\n    print(b.eval())\n    print(len(s.run(c)))\n    print(s.run(c)[0])\n    print(type(s.run(c)))\n    print(type(s.run(c)[0]))\n    print(s.run(c))\n    \n# tf.unstack will give us list of arrays",
      "execution_count": null,
      "outputs": []
    },
    {
      "metadata": {
        "trusted": true,
        "_uuid": "ad0c940730ddebe19c6f1ff46128d54c04d4ef3a"
      },
      "cell_type": "code",
      "source": "#Stack Example\na=tf.constant(np.arange(24).reshape((2,3,4)))\nb=tf.constant(np.arange(24).reshape((2,3,4)))\nc=tf.stack([a,b])",
      "execution_count": null,
      "outputs": []
    },
    {
      "metadata": {
        "trusted": true,
        "_uuid": "fb7bc4c2635099180655d922298f1fad6cd40640"
      },
      "cell_type": "code",
      "source": "with tf.Session() as s:\n    print(c.eval().shape)",
      "execution_count": null,
      "outputs": []
    },
    {
      "metadata": {
        "trusted": true,
        "_uuid": "0849fd610f58cb137457789b6d932ba74b5c89e3"
      },
      "cell_type": "code",
      "source": "a=tf.constant(np.random.randint(0,10,size=(10,4)))\nb=tf.one_hot(a,10)\n# very important ",
      "execution_count": null,
      "outputs": []
    },
    {
      "metadata": {
        "trusted": true,
        "scrolled": true,
        "_uuid": "058ba5f5b567152774bd3daf91738810d00bf711"
      },
      "cell_type": "code",
      "source": "with tf.Session() as s:\n    print(a.eval().shape)\n    print(b.eval().shape)",
      "execution_count": null,
      "outputs": []
    },
    {
      "metadata": {
        "trusted": true,
        "_uuid": "3b27a5e8d91c3a632753b488ba9668601be38778"
      },
      "cell_type": "code",
      "source": "x=np.array ([\n        [[1, 2], [7, 8], [13, 14]],  # first batch\n        [[3, 4], [9, 10], [15, 16]], # second batch\n        [[5, 6], [11, 12], [17, 18]] ])# third batch",
      "execution_count": 2,
      "outputs": []
    },
    {
      "metadata": {
        "trusted": true,
        "_uuid": "fe5c2e7caf077fc1ed395bd55bf389d9e5bca06d"
      },
      "cell_type": "code",
      "source": "x=x.astype('float32')\n\n#3 batches,3 timestamps, 2 inputsize",
      "execution_count": 3,
      "outputs": []
    },
    {
      "metadata": {
        "trusted": true,
        "_uuid": "1e8be247058209ca8046db754b8c4dab6078eea4"
      },
      "cell_type": "code",
      "source": "n_neurons=8\nn_inputs=x.shape[2]\nn_steps=x.shape[1]\nX=tf.placeholder(tf.float32,[None,n_steps,n_inputs])\nX_seq=tf.unstack(X,axis=1)\nprint(type(X_seq))\nprint(len(X_seq))   #same as number of timestamps\n",
      "execution_count": 4,
      "outputs": [
        {
          "output_type": "stream",
          "text": "<class 'list'>\n3\n",
          "name": "stdout"
        }
      ]
    },
    {
      "metadata": {
        "trusted": true,
        "_uuid": "92b132fda2614b35ddc76d6552bf85a427b89579"
      },
      "cell_type": "code",
      "source": "\n",
      "execution_count": null,
      "outputs": []
    },
    {
      "metadata": {
        "trusted": true,
        "_uuid": "c7853c1aa41044f9d8bfa55de834b0b75c2739d1"
      },
      "cell_type": "code",
      "source": "cell1=tf.nn.rnn_cell.BasicRNNCell(num_units=n_neurons)\noutput,state=tf.nn.static_rnn(cell1,X_seq,dtype=tf.float32)\nout_st=tf.stack(output,axis=1) ",
      "execution_count": 5,
      "outputs": [
        {
          "output_type": "stream",
          "text": "WARNING:tensorflow:From <ipython-input-5-a404720761d7>:1: BasicRNNCell.__init__ (from tensorflow.python.ops.rnn_cell_impl) is deprecated and will be removed in a future version.\nInstructions for updating:\nThis class is equivalent as tf.keras.layers.SimpleRNNCell, and will be replaced by that in Tensorflow 2.0.\n",
          "name": "stdout"
        }
      ]
    },
    {
      "metadata": {
        "trusted": true,
        "_uuid": "3256651e5b9475fb64df3e8699217bac1da1ce7f"
      },
      "cell_type": "code",
      "source": "print(type(output))\nprint(type(output[0]))\nprint(output[0].get_shape())\nprint(len(output))\nprint(type(out_st))\nprint(out_st.get_shape())\n# output is basically the hidden state at different timestamps\n# in static RNN cell\n#X_seq is a list of arrays at different timestamps\n#staticRNN does the whole batch computation of all timestamps for \n#whole batch\n#so we need to break the batch data into list of arrays at different timestamps that has to bee fed\n",
      "execution_count": 6,
      "outputs": [
        {
          "output_type": "stream",
          "text": "<class 'list'>\n<class 'tensorflow.python.framework.ops.Tensor'>\n(?, 8)\n3\n<class 'tensorflow.python.framework.ops.Tensor'>\n(?, 3, 8)\n",
          "name": "stdout"
        }
      ]
    },
    {
      "metadata": {
        "trusted": true,
        "_uuid": "221637819fdf42e2f4c43cabbcc5e579fa47823a"
      },
      "cell_type": "code",
      "source": "print(output)\nprint(state)   #state is hidden state at last timestamp which is same as last element of output\nx.shape",
      "execution_count": 7,
      "outputs": [
        {
          "output_type": "stream",
          "text": "[<tf.Tensor 'rnn/basic_rnn_cell/Tanh:0' shape=(?, 8) dtype=float32>, <tf.Tensor 'rnn/basic_rnn_cell/Tanh_1:0' shape=(?, 8) dtype=float32>, <tf.Tensor 'rnn/basic_rnn_cell/Tanh_2:0' shape=(?, 8) dtype=float32>]\nTensor(\"rnn/basic_rnn_cell/Tanh_2:0\", shape=(?, 8), dtype=float32)\n",
          "name": "stdout"
        },
        {
          "output_type": "execute_result",
          "execution_count": 7,
          "data": {
            "text/plain": "(3, 3, 2)"
          },
          "metadata": {}
        }
      ]
    },
    {
      "metadata": {
        "trusted": true,
        "_uuid": "cda6dac2bf239853b9428f8137e96eeaabe83f45"
      },
      "cell_type": "code",
      "source": "init = tf.global_variables_initializer()\n\n# train\nwith tf.Session() as sess:\n    sess.run(init)\n    feed_dict = {X: x}\n    \n    # print the shape\n    X_seq_shape = sess.run(tf.shape(X_seq), feed_dict=feed_dict)\n    output_shape = sess.run(tf.shape(output), feed_dict=feed_dict)\n    state_shape = sess.run(tf.shape(state), feed_dict=feed_dict)\n    output_st_shape = sess.run(tf.shape(out_st), feed_dict=feed_dict)\n    print('X_seq shape [batch_size, n_steps, n_inputs]: ', X_seq_shape)\n    print('output shape [batch_size, n_neurons]: ', output_shape)\n    print('state shape [batch_size, n_neurons]: ', state_shape)\n    print('output_st shape [batch_size, n_steps, n_neurons]: ', output_st_shape)\n    print(sess.run(output,feed_dict=feed_dict))\n    output_eval, state_eval = sess.run([output, state], feed_dict=feed_dict)\n    print('Is the output of X2 equals to the state?', np.array_equal(output_eval[2], state_eval))",
      "execution_count": 11,
      "outputs": [
        {
          "output_type": "stream",
          "text": "X_seq shape [batch_size, n_steps, n_inputs]:  [3 3 2]\noutput shape [batch_size, n_neurons]:  [3 3 8]\nstate shape [batch_size, n_neurons]:  [3 8]\noutput_st shape [batch_size, n_steps, n_neurons]:  [3 3 8]\n[array([[-0.10558826,  0.5103956 ,  0.80496544,  0.6060707 ,  0.88158536,\n        -0.6346123 ,  0.21956718,  0.8590383 ],\n       [-0.3416788 ,  0.73693043,  0.98584056,  0.8884066 ,  0.9971636 ,\n        -0.9383149 , -0.03213729,  0.9950784 ],\n       [-0.54130584,  0.8678225 ,  0.9990593 ,  0.9719248 ,  0.99993587,\n        -0.9909794 , -0.27983057,  0.9998395 ]], dtype=float32), array([[-0.32846093,  0.7064216 ,  0.9999764 ,  0.9939049 ,  0.99999636,\n        -0.99852645, -0.67558503,  0.9999974 ],\n       [-0.5431931 ,  0.7738659 ,  0.9999992 ,  0.998218  ,  1.0000001 ,\n        -0.99966735, -0.70203257,  0.99999994],\n       [-0.758775  ,  0.87523896,  1.        ,  0.9995117 ,  1.        ,\n        -0.99994   , -0.7568609 ,  1.        ]], dtype=float32), array([[-0.84038657,  0.92798966,  1.        ,  0.99988794,  1.        ,\n        -0.9999844 , -0.76967543,  1.        ],\n       [-0.9141506 ,  0.9675341 ,  1.        ,  0.99996877,  1.        ,\n        -0.99999815, -0.84882265,  1.        ],\n       [-0.95693266,  0.9850436 ,  1.        ,  0.99999136,  1.        ,\n        -0.99999976, -0.90322363,  1.        ]], dtype=float32)]\nIs the output of X2 equals to the state? True\n",
          "name": "stdout"
        }
      ]
    },
    {
      "metadata": {
        "trusted": true,
        "_uuid": "e40b739ab50d416dbd7224c7f9bedf472e08a9fb"
      },
      "cell_type": "code",
      "source": "#To avoid unstacking data and stacking the hidden states we use dynamic_rnn",
      "execution_count": 12,
      "outputs": []
    },
    {
      "metadata": {
        "trusted": true,
        "_uuid": "f631599f530953ca810ca8c1ae8ebebd930eecf6"
      },
      "cell_type": "code",
      "source": "",
      "execution_count": null,
      "outputs": []
    }
  ],
  "metadata": {
    "kernelspec": {
      "display_name": "Python 3",
      "language": "python",
      "name": "python3"
    },
    "language_info": {
      "name": "python",
      "version": "3.6.6",
      "mimetype": "text/x-python",
      "codemirror_mode": {
        "name": "ipython",
        "version": 3
      },
      "pygments_lexer": "ipython3",
      "nbconvert_exporter": "python",
      "file_extension": ".py"
    }
  },
  "nbformat": 4,
  "nbformat_minor": 1
}