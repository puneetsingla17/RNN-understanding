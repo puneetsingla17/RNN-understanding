{
 "cells": [
  {
   "cell_type": "code",
   "execution_count": 1,
   "metadata": {
    "_cell_guid": "b1076dfc-b9ad-4769-8c92-a6c4dae69d19",
    "_uuid": "8f2839f25d086af736a60e9eeb907d3b93b6e0e5"
   },
   "outputs": [
    {
     "name": "stderr",
     "output_type": "stream",
     "text": [
      "Using TensorFlow backend.\n"
     ]
    },
    {
     "name": "stdout",
     "output_type": "stream",
     "text": [
      "[]\n"
     ]
    }
   ],
   "source": [
    "# This Python 3 environment comes with many helpful analytics libraries installed\n",
    "# It is defined by the kaggle/python docker image: https://github.com/kaggle/docker-python\n",
    "# For example, here's several helpful packages to load in \n",
    "\n",
    "import numpy as np # linear algebra\n",
    "import pandas as pd # data processing, CSV file I/O (e.g. pd.read_csv)\n",
    "from keras.datasets import mnist\n",
    "# Input data files are available in the \"../input/\" directory.\n",
    "# For example, running this (by clicking run or pressing Shift+Enter) will list the files in the input directory\n",
    "import tensorflow as tf\n",
    "from sklearn.metrics import roc_auc_score\n",
    "import os\n",
    "print(os.listdir(\"../input\"))\n",
    "from keras.utils import to_categorical\n",
    "import matplotlib.pyplot as plt\n",
    "# Any results you write to the current directory are saved as output."
   ]
  },
  {
   "cell_type": "code",
   "execution_count": 2,
   "metadata": {
    "_cell_guid": "79c7e3d0-c299-4dcb-8224-4455121ee9b0",
    "_uuid": "d629ff2d2480ee46fbb7e2d37f6b5fab8052498a"
   },
   "outputs": [
    {
     "name": "stdout",
     "output_type": "stream",
     "text": [
      "Downloading data from https://s3.amazonaws.com/img-datasets/mnist.npz\n",
      "11493376/11490434 [==============================] - 11s 1us/step\n"
     ]
    }
   ],
   "source": [
    "(xtrain,ytrain),(xvalid,yvalid)=mnist.load_data()"
   ]
  },
  {
   "cell_type": "code",
   "execution_count": 3,
   "metadata": {
    "_uuid": "b3be480eff147ef3113e14d4fb49ccc15242d1a6"
   },
   "outputs": [],
   "source": [
    "xtrain1=xtrain.astype(np.float32)/255\n",
    "xvalid1=xvalid.astype(np.float32)/255\n",
    "ytrain1=to_categorical(ytrain,10)\n",
    "yvalid1=to_categorical(yvalid,10)\n"
   ]
  },
  {
   "cell_type": "code",
   "execution_count": 4,
   "metadata": {
    "_uuid": "848dc47a451518ad7c993e5c3ce82fd0e65bed01"
   },
   "outputs": [],
   "source": [
    "n_neurons=256\n",
    "N=len(xtrain1)"
   ]
  },
  {
   "cell_type": "code",
   "execution_count": 5,
   "metadata": {
    "_uuid": "2381545fb10b0705894d75db5e3e54f3c514c77e"
   },
   "outputs": [],
   "source": [
    "x=tf.placeholder(tf.float32,shape=[None,28,28])\n",
    "y=tf.placeholder(tf.float32,shape=[None,10])"
   ]
  },
  {
   "cell_type": "code",
   "execution_count": 6,
   "metadata": {
    "_uuid": "6d70a04f8e3727f28ffbbcdd3be9f19913bb3cf0"
   },
   "outputs": [
    {
     "name": "stdout",
     "output_type": "stream",
     "text": [
      "WARNING:tensorflow:From <ipython-input-6-1401d708eda7>:1: BasicRNNCell.__init__ (from tensorflow.python.ops.rnn_cell_impl) is deprecated and will be removed in a future version.\n",
      "Instructions for updating:\n",
      "This class is equivalent as tf.keras.layers.SimpleRNNCell, and will be replaced by that in Tensorflow 2.0.\n"
     ]
    }
   ],
   "source": [
    "cell1=tf.nn.rnn_cell.BasicRNNCell(n_neurons)\n",
    "output,state=tf.nn.dynamic_rnn(cell1,x,dtype=tf.float32)  #initial state is default to zero but can be set to anything\n",
    "# example encoder decoder network"
   ]
  },
  {
   "cell_type": "code",
   "execution_count": 7,
   "metadata": {
    "_uuid": "701f7e8772a0a5b5c4867633f06316458ba31d84"
   },
   "outputs": [],
   "source": [
    "from tensorflow.contrib.layers import fully_connected"
   ]
  },
  {
   "cell_type": "code",
   "execution_count": 8,
   "metadata": {
    "_uuid": "0c42e24ed7d416729a58f830f64e67226b89ce30"
   },
   "outputs": [],
   "source": [
    "logits=fully_connected(state,10,activation_fn=None)"
   ]
  },
  {
   "cell_type": "code",
   "execution_count": 9,
   "metadata": {
    "_uuid": "195010693e55d9a39131677b1dc304c8b64931b6"
   },
   "outputs": [],
   "source": [
    "cross_entropy=tf.reduce_mean(tf.nn.softmax_cross_entropy_with_logits_v2(logits=logits,labels=y))"
   ]
  },
  {
   "cell_type": "code",
   "execution_count": 10,
   "metadata": {
    "_uuid": "d8b8de7227d13773fce404dc1e92dfad362b8799"
   },
   "outputs": [],
   "source": [
    "optimize=tf.train.AdamOptimizer(0.001).minimize(cross_entropy)"
   ]
  },
  {
   "cell_type": "code",
   "execution_count": 11,
   "metadata": {
    "_uuid": "f8243dfa2dade08d8cfa386f435d252d5329311b"
   },
   "outputs": [],
   "source": [
    "prediction=tf.argmax(tf.nn.softmax(logits),axis=1)\n",
    "accuracy=tf.reduce_mean(tf.cast(tf.equal(prediction,tf.argmax(y,axis=1)),tf.float32))*100"
   ]
  },
  {
   "cell_type": "code",
   "execution_count": 12,
   "metadata": {
    "_uuid": "947ad07716d44f2a66f083ecc55a7268ce05a6ef"
   },
   "outputs": [],
   "source": [
    "init=tf.global_variables_initializer()\n",
    "    "
   ]
  },
  {
   "cell_type": "code",
   "execution_count": 13,
   "metadata": {
    "_uuid": "8fb2ec6ce1e192f97e587d7c6cf4011346db34bb"
   },
   "outputs": [],
   "source": [
    "Ntrain=len(xtrain)\n",
    "batchsize=128\n",
    "epochs=500"
   ]
  },
  {
   "cell_type": "code",
   "execution_count": 14,
   "metadata": {
    "_uuid": "3942f26b3c4fac56fddeb42a95070697dc3fc8a8"
   },
   "outputs": [
    {
     "name": "stdout",
     "output_type": "stream",
     "text": [
      "epoch: 0  trainloss: 2.217788 trainacc: 19.755\n",
      "epoch: 0  validloss: 2.2161555 validacc: 19.84\n",
      " \n",
      "epoch: 10  trainloss: 1.1390555 trainacc: 66.475\n",
      "epoch: 10  validloss: 1.1196653 validacc: 67.78\n",
      " \n",
      "epoch: 20  trainloss: 0.8738244 trainacc: 71.596664\n",
      "epoch: 20  validloss: 0.85825545 validacc: 71.75\n",
      " \n",
      "epoch: 30  trainloss: 0.7573206 trainacc: 76.35167\n",
      "epoch: 30  validloss: 0.72808045 validacc: 77.240005\n",
      " \n",
      "epoch: 40  trainloss: 0.6896975 trainacc: 78.425\n",
      "epoch: 40  validloss: 0.6610361 validacc: 79.759995\n",
      " \n",
      "epoch: 50  trainloss: 0.64832014 trainacc: 80.27833\n",
      "epoch: 50  validloss: 0.63088584 validacc: 80.98\n",
      " \n",
      "epoch: 60  trainloss: 0.5405696 trainacc: 84.08333\n",
      "epoch: 60  validloss: 0.5296977 validacc: 83.990005\n",
      " \n",
      "epoch: 70  trainloss: 0.45623615 trainacc: 86.293335\n",
      "epoch: 70  validloss: 0.44447124 validacc: 86.78\n",
      " \n",
      "epoch: 80  trainloss: 0.51451415 trainacc: 84.08333\n",
      "epoch: 80  validloss: 0.50151056 validacc: 84.81\n",
      " \n",
      "epoch: 90  trainloss: 0.45495248 trainacc: 86.285\n",
      "epoch: 90  validloss: 0.4467566 validacc: 86.06\n",
      " \n",
      "epoch: 100  trainloss: 0.3959254 trainacc: 88.505\n",
      "epoch: 100  validloss: 0.38457128 validacc: 88.48\n",
      " \n",
      "epoch: 110  trainloss: 0.35105225 trainacc: 89.958336\n",
      "epoch: 110  validloss: 0.35071385 validacc: 90.130005\n",
      " \n",
      "epoch: 120  trainloss: 0.33519745 trainacc: 90.060005\n",
      "epoch: 120  validloss: 0.3292756 validacc: 90.11\n",
      " \n",
      "epoch: 130  trainloss: 0.36444694 trainacc: 89.29167\n",
      "epoch: 130  validloss: 0.36819047 validacc: 89.04\n",
      " \n",
      "epoch: 140  trainloss: 0.36171243 trainacc: 89.32333\n",
      "epoch: 140  validloss: 0.35534292 validacc: 89.71\n",
      " \n",
      "epoch: 150  trainloss: 0.36131036 trainacc: 88.94333\n",
      "epoch: 150  validloss: 0.35764688 validacc: 89.44\n",
      " \n",
      "epoch: 160  trainloss: 0.34122998 trainacc: 90.240005\n",
      "epoch: 160  validloss: 0.3390783 validacc: 90.23\n",
      " \n",
      "epoch: 170  trainloss: 0.29919428 trainacc: 91.17\n",
      "epoch: 170  validloss: 0.29847518 validacc: 91.53\n",
      " \n",
      "epoch: 180  trainloss: 0.29734954 trainacc: 91.113335\n",
      "epoch: 180  validloss: 0.28677145 validacc: 91.409996\n",
      " \n",
      "epoch: 190  trainloss: 0.30690598 trainacc: 90.92\n",
      "epoch: 190  validloss: 0.300693 validacc: 91.399994\n",
      " \n",
      "epoch: 200  trainloss: 0.32199383 trainacc: 90.18833\n",
      "epoch: 200  validloss: 0.32287484 validacc: 90.100006\n",
      " \n",
      "epoch: 210  trainloss: 0.32006204 trainacc: 90.26333\n",
      "epoch: 210  validloss: 0.31189647 validacc: 90.53\n",
      " \n",
      "epoch: 220  trainloss: 0.25852373 trainacc: 92.35\n",
      "epoch: 220  validloss: 0.25260335 validacc: 92.46\n",
      " \n",
      "epoch: 230  trainloss: 0.2742145 trainacc: 91.78333\n",
      "epoch: 230  validloss: 0.2767205 validacc: 91.6\n",
      " \n",
      "epoch: 240  trainloss: 0.2676847 trainacc: 92.003334\n",
      "epoch: 240  validloss: 0.26478636 validacc: 92.049995\n",
      " \n",
      "epoch: 250  trainloss: 0.28931323 trainacc: 91.39166\n",
      "epoch: 250  validloss: 0.27155048 validacc: 91.99\n",
      " \n",
      "epoch: 260  trainloss: 0.30241057 trainacc: 90.76\n",
      "epoch: 260  validloss: 0.29942203 validacc: 90.84\n",
      " \n",
      "epoch: 270  trainloss: 0.324965 trainacc: 90.03\n",
      "epoch: 270  validloss: 0.32327682 validacc: 90.31\n",
      " \n",
      "epoch: 280  trainloss: 0.2579091 trainacc: 92.42667\n",
      "epoch: 280  validloss: 0.25965416 validacc: 92.38\n",
      " \n",
      "epoch: 290  trainloss: 0.29345188 trainacc: 91.43\n",
      "epoch: 290  validloss: 0.28871593 validacc: 91.579994\n",
      " \n",
      "epoch: 300  trainloss: 0.29727688 trainacc: 90.92\n",
      "epoch: 300  validloss: 0.2932109 validacc: 91.27\n",
      " \n",
      "epoch: 310  trainloss: 0.29542497 trainacc: 90.72\n",
      "epoch: 310  validloss: 0.29137185 validacc: 90.97\n",
      " \n",
      "epoch: 320  trainloss: 0.30695602 trainacc: 90.945\n",
      "epoch: 320  validloss: 0.3128792 validacc: 90.84\n",
      " \n",
      "epoch: 330  trainloss: 0.26004964 trainacc: 92.24167\n",
      "epoch: 330  validloss: 0.24646382 validacc: 92.58\n",
      " \n",
      "epoch: 340  trainloss: 0.23158857 trainacc: 93.18666\n",
      "epoch: 340  validloss: 0.23395193 validacc: 93.33\n",
      " \n",
      "epoch: 350  trainloss: 0.23573743 trainacc: 92.941666\n",
      "epoch: 350  validloss: 0.22144571 validacc: 93.61\n",
      " \n",
      "epoch: 360  trainloss: 0.21215968 trainacc: 93.81833\n",
      "epoch: 360  validloss: 0.21244365 validacc: 93.71\n",
      " \n",
      "epoch: 370  trainloss: 0.24061166 trainacc: 92.878334\n",
      "epoch: 370  validloss: 0.2353887 validacc: 93.25\n",
      " \n",
      "epoch: 380  trainloss: 0.24626927 trainacc: 92.605\n",
      "epoch: 380  validloss: 0.24143447 validacc: 92.69\n",
      " \n",
      "epoch: 390  trainloss: 0.23704155 trainacc: 92.88167\n",
      "epoch: 390  validloss: 0.23152417 validacc: 93.04\n",
      " \n",
      "epoch: 400  trainloss: 0.2215748 trainacc: 93.441666\n",
      "epoch: 400  validloss: 0.22183985 validacc: 93.53\n",
      " \n",
      "epoch: 410  trainloss: 0.21503837 trainacc: 93.66334\n",
      "epoch: 410  validloss: 0.20018972 validacc: 94.28\n",
      " \n",
      "epoch: 420  trainloss: 0.22615631 trainacc: 93.17167\n",
      "epoch: 420  validloss: 0.22407183 validacc: 93.31\n",
      " \n",
      "epoch: 430  trainloss: 0.2099483 trainacc: 93.77167\n",
      "epoch: 430  validloss: 0.21402979 validacc: 93.72\n",
      " \n",
      "epoch: 440  trainloss: 0.20256826 trainacc: 94.17833\n",
      "epoch: 440  validloss: 0.19574955 validacc: 94.41\n",
      " \n",
      "epoch: 450  trainloss: 0.19279791 trainacc: 94.32333\n",
      "epoch: 450  validloss: 0.19391477 validacc: 94.44\n",
      " \n",
      "epoch: 460  trainloss: 0.17008199 trainacc: 95.06167\n",
      "epoch: 460  validloss: 0.16757968 validacc: 95.200005\n",
      " \n",
      "epoch: 470  trainloss: 0.20437382 trainacc: 93.89833\n",
      "epoch: 470  validloss: 0.20331293 validacc: 93.98\n",
      " \n",
      "epoch: 480  trainloss: 0.17812823 trainacc: 94.835\n",
      "epoch: 480  validloss: 0.17386787 validacc: 94.83\n",
      " \n",
      "epoch: 490  trainloss: 0.2152697 trainacc: 93.545\n",
      "epoch: 490  validloss: 0.20493135 validacc: 93.89\n",
      " \n"
     ]
    }
   ],
   "source": [
    "trainloss=[]\n",
    "validloss=[]\n",
    "trainacc=[]\n",
    "validacc=[]\n",
    "with tf.Session() as s:\n",
    "    s.run(init)\n",
    "    batch_x1=xtrain1\n",
    "    batch_y1=ytrain1\n",
    "    batch_valid_x=xvalid1\n",
    "    batch_valid_y=yvalid1\n",
    "    for i in range(epochs):\n",
    "        indx=np.random.choice(Ntrain,batchsize,replace=False)\n",
    "        batch_x=xtrain1[indx]\n",
    "        batch_y=ytrain1[indx]\n",
    "        feeddict={x:batch_x,y:batch_y}\n",
    "        _,batchloss=s.run([optimize,cross_entropy],feed_dict=feeddict)\n",
    "        if i%10==0:\n",
    "            #Trainaccuracy and trainloss\n",
    "            #indx1=np.random.choice(Ntrain,batchsize,replace=False)\n",
    "            feeddict1={x:batch_x1,y:batch_y1}\n",
    "            batch_train_acc,batch_train_loss=s.run([accuracy,cross_entropy],feed_dict=feeddict1)\n",
    "            print(\"epoch:\",i,' trainloss:',batch_train_loss,'trainacc:',batch_train_acc)\n",
    "            trainacc.append(batch_train_acc)\n",
    "            trainloss.append(batch_train_loss)\n",
    "            \n",
    "            \n",
    "            feeddict2={x:batch_valid_x,y:batch_valid_y}\n",
    "            batch_valid_acc,batch_valid_loss=s.run([accuracy,cross_entropy],feed_dict=feeddict2)\n",
    "            print(\"epoch:\",i,' validloss:',batch_valid_loss,'validacc:',batch_valid_acc)\n",
    "            validacc.append(batch_valid_acc)\n",
    "            validloss.append(batch_valid_loss)\n",
    "            print( \" \")"
   ]
  },
  {
   "cell_type": "code",
   "execution_count": 15,
   "metadata": {
    "_uuid": "5b38cf63cd2d808f5e7bbfe40ce2df9bbfa52b85"
   },
   "outputs": [
    {
     "data": {
      "text/plain": [
       "<matplotlib.legend.Legend at 0x7f55441d2048>"
      ]
     },
     "execution_count": 15,
     "metadata": {},
     "output_type": "execute_result"
    },
    {
     "data": {
      "image/png": "[encoded data removed]",
      "text/plain": [
       "<Figure size 432x288 with 1 Axes>"
      ]
     },
     "metadata": {},
     "output_type": "display_data"
    }
   ],
   "source": [
    "plt.plot(validacc,label='validation_acc')\n",
    "plt.plot(trainacc,label='trainloss')\n",
    "plt.xlabel('epochs')\n",
    "plt.ylabel('accuracy')\n",
    "plt.legend()"
   ]
  },
  {
   "cell_type": "code",
   "execution_count": 16,
   "metadata": {
    "_uuid": "dcdaad66e46e1b53e218a5e04c2891a7b7f691be"
   },
   "outputs": [
    {
     "data": {
      "text/plain": [
       "<matplotlib.legend.Legend at 0x7f55441759e8>"
      ]
     },
     "execution_count": 16,
     "metadata": {},
     "output_type": "execute_result"
    },
    {
     "data": {
      "image/png": "[encoded data removed]",
      "text/plain": [
       "<Figure size 432x288 with 1 Axes>"
      ]
     },
     "metadata": {},
     "output_type": "display_data"
    }
   ],
   "source": [
    "plt.plot(validloss,label='validation_loss')\n",
    "plt.plot(trainloss,label='trainloss')\n",
    "plt.xlabel('epochs')\n",
    "plt.ylabel('loss')\n",
    "plt.legend()"
   ]
  },
  {
   "cell_type": "code",
   "execution_count": 17,
   "metadata": {
    "_uuid": "433eb29daf0c65c2556faf633a722593e04d4d9c"
   },
   "outputs": [],
   "source": [
    "ncells=2"
   ]
  },
  {
   "cell_type": "markdown",
   "metadata": {
    "_uuid": "243d6b46db7aa0a69f6d9b147165d8b21706f865"
   },
   "source": [
    "**MULTIRNN Implementation**"
   ]
  },
  {
   "cell_type": "code",
   "execution_count": 18,
   "metadata": {
    "_uuid": "bab45c38d9642ac534c168832a367425bc28b3b1"
   },
   "outputs": [],
   "source": [
    "cell_layer=[tf.nn.rnn_cell.BasicRNNCell(n_neurons) for i in range(ncells)]"
   ]
  },
  {
   "cell_type": "code",
   "execution_count": 19,
   "metadata": {
    "_uuid": "b6ac2e57de81d39b3949a326c35e6d6226fd2b42"
   },
   "outputs": [],
   "source": [
    "multicell1=tf.nn.rnn_cell.MultiRNNCell(cell_layer)\n",
    "outputs,state=tf.nn.dynamic_rnn(multicell1,x,dtype=tf.float32)"
   ]
  },
  {
   "cell_type": "code",
   "execution_count": 20,
   "metadata": {
    "_uuid": "9325fe4d86e8aa24f7c70ec06462c9635934a2f2"
   },
   "outputs": [
    {
     "data": {
      "text/plain": [
       "TensorShape([Dimension(None), Dimension(28), Dimension(256)])"
      ]
     },
     "execution_count": 20,
     "metadata": {},
     "output_type": "execute_result"
    }
   ],
   "source": [
    "outputs.get_shape()"
   ]
  },
  {
   "cell_type": "code",
   "execution_count": 21,
   "metadata": {
    "_uuid": "a100f33159c1fa3528910d609cf3a4bc7fa963d2"
   },
   "outputs": [
    {
     "data": {
      "text/plain": [
       "2"
      ]
     },
     "execution_count": 21,
     "metadata": {},
     "output_type": "execute_result"
    }
   ],
   "source": [
    "len(state)"
   ]
  },
  {
   "cell_type": "code",
   "execution_count": 22,
   "metadata": {
    "_uuid": "1f144e930716ca447d2069b5f825759fc5e54fd4"
   },
   "outputs": [],
   "source": [
    "logits=fully_connected(state[-1],10,activation_fn=None)"
   ]
  },
  {
   "cell_type": "code",
   "execution_count": 23,
   "metadata": {
    "_uuid": "74b765e2492dd17b86da086069ac677057a7796b"
   },
   "outputs": [],
   "source": [
    "cross_entropy=tf.reduce_mean(tf.nn.softmax_cross_entropy_with_logits_v2(logits=logits,labels=y))"
   ]
  },
  {
   "cell_type": "code",
   "execution_count": 24,
   "metadata": {
    "_uuid": "5087d5500ea04c706ef4c19b7f2224cdc347b2ab"
   },
   "outputs": [],
   "source": [
    "optimize=tf.train.AdamOptimizer(0.001).minimize(cross_entropy)"
   ]
  },
  {
   "cell_type": "code",
   "execution_count": 25,
   "metadata": {
    "_uuid": "06a575836235f12bb5c51aa229da7dcd0f34b71f"
   },
   "outputs": [],
   "source": [
    "prediction=tf.argmax(tf.nn.softmax(logits),axis=1)\n",
    "accuracy=tf.reduce_mean(tf.cast(tf.equal(prediction,tf.argmax(y,axis=1)),tf.float32))*100"
   ]
  },
  {
   "cell_type": "code",
   "execution_count": 26,
   "metadata": {
    "_uuid": "08803d20c2d16f5b7245efeb68f0f70265e2b3ae"
   },
   "outputs": [],
   "source": [
    "init=tf.global_variables_initializer()\n",
    "Ntrain=len(xtrain)\n",
    "batchsize=128\n",
    "epochs=500    "
   ]
  },
  {
   "cell_type": "code",
   "execution_count": 27,
   "metadata": {
    "_uuid": "e9852070a8db685a9bcb0ed105e858d7420b8a98"
   },
   "outputs": [
    {
     "name": "stdout",
     "output_type": "stream",
     "text": [
      "epoch: 0  trainloss: 2.161183 trainacc: 18.321667\n",
      "epoch: 0  validloss: 2.1603923 validacc: 17.730001\n",
      " \n",
      "epoch: 10  trainloss: 0.9162141 trainacc: 70.22333\n",
      "epoch: 10  validloss: 0.9128329 validacc: 70.6\n",
      " \n",
      "epoch: 20  trainloss: 0.7256967 trainacc: 76.36667\n",
      "epoch: 20  validloss: 0.71538615 validacc: 77.07\n",
      " \n",
      "epoch: 30  trainloss: 0.57018125 trainacc: 81.776665\n",
      "epoch: 30  validloss: 0.56046396 validacc: 81.89\n",
      " \n",
      "epoch: 40  trainloss: 0.5531218 trainacc: 82.708336\n",
      "epoch: 40  validloss: 0.5338675 validacc: 83.8\n",
      " \n",
      "epoch: 50  trainloss: 0.48011914 trainacc: 85.098335\n",
      "epoch: 50  validloss: 0.45704907 validacc: 86.21\n",
      " \n",
      "epoch: 60  trainloss: 0.43749493 trainacc: 86.901665\n",
      "epoch: 60  validloss: 0.4281688 validacc: 87.55\n",
      " \n",
      "epoch: 70  trainloss: 0.38283724 trainacc: 88.36167\n",
      "epoch: 70  validloss: 0.38311395 validacc: 88.58\n",
      " \n",
      "epoch: 80  trainloss: 0.48361367 trainacc: 84.84333\n",
      "epoch: 80  validloss: 0.46903515 validacc: 85.439995\n",
      " \n",
      "epoch: 90  trainloss: 0.39354068 trainacc: 88.31\n",
      "epoch: 90  validloss: 0.3908865 validacc: 88.9\n",
      " \n",
      "epoch: 100  trainloss: 0.36435327 trainacc: 88.78333\n",
      "epoch: 100  validloss: 0.34986752 validacc: 89.35\n",
      " \n",
      "epoch: 110  trainloss: 0.4272634 trainacc: 87.371666\n",
      "epoch: 110  validloss: 0.400794 validacc: 88.020004\n",
      " \n",
      "epoch: 120  trainloss: 0.30389968 trainacc: 90.85667\n",
      "epoch: 120  validloss: 0.29150113 validacc: 91.369995\n",
      " \n",
      "epoch: 130  trainloss: 0.3339716 trainacc: 90.098335\n",
      "epoch: 130  validloss: 0.3253354 validacc: 90.16\n",
      " \n",
      "epoch: 140  trainloss: 0.3392171 trainacc: 89.97833\n",
      "epoch: 140  validloss: 0.32667333 validacc: 90.55\n",
      " \n",
      "epoch: 150  trainloss: 0.35540938 trainacc: 89.38167\n",
      "epoch: 150  validloss: 0.35250834 validacc: 89.25\n",
      " \n",
      "epoch: 160  trainloss: 0.30724546 trainacc: 90.805\n",
      "epoch: 160  validloss: 0.29976925 validacc: 90.89\n",
      " \n",
      "epoch: 170  trainloss: 0.29228294 trainacc: 91.361664\n",
      "epoch: 170  validloss: 0.29117838 validacc: 91.38\n",
      " \n",
      "epoch: 180  trainloss: 0.46556193 trainacc: 85.375\n",
      "epoch: 180  validloss: 0.45625323 validacc: 85.729996\n",
      " \n",
      "epoch: 190  trainloss: 0.3043331 trainacc: 90.81834\n",
      "epoch: 190  validloss: 0.2943806 validacc: 91.07\n",
      " \n",
      "epoch: 200  trainloss: 0.2544659 trainacc: 92.64833\n",
      "epoch: 200  validloss: 0.26819393 validacc: 92.38\n",
      " \n",
      "epoch: 210  trainloss: 0.23350693 trainacc: 93.12334\n",
      "epoch: 210  validloss: 0.2311947 validacc: 93.36\n",
      " \n",
      "epoch: 220  trainloss: 0.29597864 trainacc: 91.305\n",
      "epoch: 220  validloss: 0.28535888 validacc: 91.689995\n",
      " \n",
      "epoch: 230  trainloss: 0.2536797 trainacc: 92.39333\n",
      "epoch: 230  validloss: 0.2504237 validacc: 92.52\n",
      " \n",
      "epoch: 240  trainloss: 0.28291798 trainacc: 91.918335\n",
      "epoch: 240  validloss: 0.27897993 validacc: 92.13\n",
      " \n",
      "epoch: 250  trainloss: 0.2367773 trainacc: 92.933334\n",
      "epoch: 250  validloss: 0.22624864 validacc: 93.25\n",
      " \n",
      "epoch: 260  trainloss: 0.229169 trainacc: 93.25167\n",
      "epoch: 260  validloss: 0.23121738 validacc: 93.39\n",
      " \n",
      "epoch: 270  trainloss: 0.3261686 trainacc: 89.84333\n",
      "epoch: 270  validloss: 0.3189353 validacc: 90.17\n",
      " \n",
      "epoch: 280  trainloss: 0.24126497 trainacc: 92.98167\n",
      "epoch: 280  validloss: 0.22823419 validacc: 93.18\n",
      " \n",
      "epoch: 290  trainloss: 0.21320032 trainacc: 93.60667\n",
      "epoch: 290  validloss: 0.20891377 validacc: 93.82\n",
      " \n",
      "epoch: 300  trainloss: 0.20753667 trainacc: 93.89333\n",
      "epoch: 300  validloss: 0.19903636 validacc: 94.2\n",
      " \n",
      "epoch: 310  trainloss: 0.192764 trainacc: 94.340004\n",
      "epoch: 310  validloss: 0.19539994 validacc: 94.14\n",
      " \n",
      "epoch: 320  trainloss: 0.22878024 trainacc: 93.18833\n",
      "epoch: 320  validloss: 0.21888947 validacc: 93.409996\n",
      " \n",
      "epoch: 330  trainloss: 0.20904934 trainacc: 93.76\n",
      "epoch: 330  validloss: 0.21187732 validacc: 93.83\n",
      " \n",
      "epoch: 340  trainloss: 0.26982632 trainacc: 91.845\n",
      "epoch: 340  validloss: 0.25360617 validacc: 92.51\n",
      " \n",
      "epoch: 350  trainloss: 0.21004954 trainacc: 93.685\n",
      "epoch: 350  validloss: 0.21234185 validacc: 93.7\n",
      " \n",
      "epoch: 360  trainloss: 0.2187165 trainacc: 93.43167\n",
      "epoch: 360  validloss: 0.20993462 validacc: 93.78\n",
      " \n",
      "epoch: 370  trainloss: 0.27246195 trainacc: 91.73333\n",
      "epoch: 370  validloss: 0.27767968 validacc: 91.89\n",
      " \n",
      "epoch: 380  trainloss: 0.18714981 trainacc: 94.50667\n",
      "epoch: 380  validloss: 0.18662712 validacc: 94.82\n",
      " \n",
      "epoch: 390  trainloss: 0.20611773 trainacc: 94.025\n",
      "epoch: 390  validloss: 0.20477813 validacc: 94.2\n",
      " \n",
      "epoch: 400  trainloss: 0.227069 trainacc: 93.28167\n",
      "epoch: 400  validloss: 0.22145718 validacc: 93.55\n",
      " \n",
      "epoch: 410  trainloss: 0.22313158 trainacc: 93.36\n",
      "epoch: 410  validloss: 0.22264042 validacc: 93.65\n",
      " \n",
      "epoch: 420  trainloss: 0.20603183 trainacc: 93.93833\n",
      "epoch: 420  validloss: 0.20743333 validacc: 93.85\n",
      " \n",
      "epoch: 430  trainloss: 0.19278537 trainacc: 94.08666\n",
      "epoch: 430  validloss: 0.19061653 validacc: 94.23\n",
      " \n",
      "epoch: 440  trainloss: 0.19249742 trainacc: 94.316666\n",
      "epoch: 440  validloss: 0.19024666 validacc: 94.28\n",
      " \n",
      "epoch: 450  trainloss: 0.24662425 trainacc: 92.86\n",
      "epoch: 450  validloss: 0.23464672 validacc: 92.7\n",
      " \n",
      "epoch: 460  trainloss: 0.20563549 trainacc: 93.92167\n",
      "epoch: 460  validloss: 0.20421419 validacc: 93.93\n",
      " \n",
      "epoch: 470  trainloss: 0.21450059 trainacc: 93.64667\n",
      "epoch: 470  validloss: 0.21157573 validacc: 93.45\n",
      " \n",
      "epoch: 480  trainloss: 0.19308034 trainacc: 94.174995\n",
      "epoch: 480  validloss: 0.19372703 validacc: 94.3\n",
      " \n",
      "epoch: 490  trainloss: 0.19041076 trainacc: 94.534996\n",
      "epoch: 490  validloss: 0.18271188 validacc: 94.33\n",
      " \n"
     ]
    }
   ],
   "source": [
    "trainloss=[]\n",
    "validloss=[]\n",
    "trainacc=[]\n",
    "validacc=[]\n",
    "with tf.Session() as s:\n",
    "    s.run(init)\n",
    "    batch_x1=xtrain1\n",
    "    batch_y1=ytrain1\n",
    "    batch_valid_x=xvalid1\n",
    "    batch_valid_y=yvalid1\n",
    "    for i in range(epochs):\n",
    "        indx=np.random.choice(Ntrain,batchsize,replace=False)\n",
    "        batch_x=xtrain1[indx]\n",
    "        batch_y=ytrain1[indx]\n",
    "        feeddict={x:batch_x,y:batch_y}\n",
    "        _,batchloss=s.run([optimize,cross_entropy],feed_dict=feeddict)\n",
    "        if i%10==0:\n",
    "            #Trainaccuracy and trainloss\n",
    "            #indx1=np.random.choice(Ntrain,batchsize,replace=False)\n",
    "            feeddict1={x:batch_x1,y:batch_y1}\n",
    "            batch_train_acc,batch_train_loss=s.run([accuracy,cross_entropy],feed_dict=feeddict1)\n",
    "            print(\"epoch:\",i,' trainloss:',batch_train_loss,'trainacc:',batch_train_acc)\n",
    "            trainacc.append(batch_train_acc)\n",
    "            trainloss.append(batch_train_loss)\n",
    "            \n",
    "            \n",
    "            feeddict2={x:batch_valid_x,y:batch_valid_y}\n",
    "            batch_valid_acc,batch_valid_loss=s.run([accuracy,cross_entropy],feed_dict=feeddict2)\n",
    "            print(\"epoch:\",i,' validloss:',batch_valid_loss,'validacc:',batch_valid_acc)\n",
    "            validacc.append(batch_valid_acc)\n",
    "            validloss.append(batch_valid_loss)\n",
    "            print( \" \")"
   ]
  },
  {
   "cell_type": "code",
   "execution_count": 28,
   "metadata": {
    "_uuid": "8d3d449c4bedddb23a2d9c8c737ef9f7af0fea37"
   },
   "outputs": [
    {
     "data": {
      "text/plain": [
       "<matplotlib.legend.Legend at 0x7f551d4a34a8>"
      ]
     },
     "execution_count": 28,
     "metadata": {},
     "output_type": "execute_result"
    },
    {
     "data": {
      "image/png": "[encoded data removed]",
      "text/plain": [
       "<Figure size 432x288 with 1 Axes>"
      ]
     },
     "metadata": {},
     "output_type": "display_data"
    }
   ],
   "source": [
    "plt.plot(validacc,label='validation_acc')\n",
    "plt.plot(trainacc,label='trainloss')\n",
    "plt.xlabel('epochs')\n",
    "plt.ylabel('accuracy')\n",
    "plt.legend()"
   ]
  },
  {
   "cell_type": "code",
   "execution_count": 29,
   "metadata": {
    "_uuid": "8f52cd93cfd9c4e59fb6a5da27cccea87aad6227"
   },
   "outputs": [
    {
     "data": {
      "text/plain": [
       "<matplotlib.legend.Legend at 0x7f551d40e7b8>"
      ]
     },
     "execution_count": 29,
     "metadata": {},
     "output_type": "execute_result"
    },
    {
     "data": {
      "image/png": "[encoded data removed]",
      "text/plain": [
       "<Figure size 432x288 with 1 Axes>"
      ]
     },
     "metadata": {},
     "output_type": "display_data"
    }
   ],
   "source": [
    "plt.plot(validloss,label='validation_loss')\n",
    "plt.plot(trainloss,label='trainloss')\n",
    "plt.xlabel('epochs')\n",
    "plt.ylabel('loss')\n",
    "plt.legend()"
   ]
  },
  {
   "cell_type": "code",
   "execution_count": 30,
   "metadata": {
    "_uuid": "203fc3ee1b2c800cf1c187d667ba7d3215964203"
   },
   "outputs": [],
   "source": [
    "#stacking RNNs on top increased accuracy by 1%"
   ]
  },
  {
   "cell_type": "code",
   "execution_count": 31,
   "metadata": {
    "_uuid": "0417ff128df709be630f7274b01918c99dacab1c"
   },
   "outputs": [],
   "source": []
  }
 ],
 "metadata": {
  "kernelspec": {
   "display_name": "Python 3",
   "language": "python",
   "name": "python3"
  },
  "language_info": {
   "codemirror_mode": {
    "name": "ipython",
    "version": 3
   },
   "file_extension": ".py",
   "mimetype": "text/x-python",
   "name": "python",
   "nbconvert_exporter": "python",
   "pygments_lexer": "ipython3",
   "version": "3.6.6"
  }
 },
 "nbformat": 4,
 "nbformat_minor": 1
}
